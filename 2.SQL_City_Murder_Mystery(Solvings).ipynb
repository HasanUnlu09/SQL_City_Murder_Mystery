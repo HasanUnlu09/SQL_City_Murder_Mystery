{
 "cells": [
  {
   "cell_type": "markdown",
   "id": "ebacbc77",
   "metadata": {},
   "source": [
    "# SQL Murder Mystery Practice (Solving)"
   ]
  },
  {
   "cell_type": "markdown",
   "id": "e64d8241",
   "metadata": {},
   "source": [
    "---"
   ]
  },
  {
   "cell_type": "markdown",
   "id": "ccf6a548",
   "metadata": {},
   "source": [
    "## Problem Description\n",
    "\n",
    "A crime has taken place and the detective needs your help. The detective gave you the crime scene report, but you somehow lost it. You vaguely remember that the crime was a ​murder​ that occurred sometime on **Jan.15, 2018** and that it took place in **SQL City**. Start by retrieving the corresponding crime scene report from the police department’s database."
   ]
  },
  {
   "cell_type": "markdown",
   "id": "bbf0cd45",
   "metadata": {},
   "source": [
    "---"
   ]
  },
  {
   "cell_type": "markdown",
   "id": "da2e31eb",
   "metadata": {},
   "source": [
    "## Import Necessary Libraries"
   ]
  },
  {
   "cell_type": "code",
   "execution_count": 1,
   "id": "77c62052",
   "metadata": {},
   "outputs": [],
   "source": [
    "# For Data Frame\n",
    "import pandas as pd\n",
    "\n",
    "# For The Database Connection\n",
    "import mysql.connector as my_conn\n",
    "\n",
    "# For Table Formatted Data Frame Printing\n",
    "from rich.console import Console\n",
    "from rich.table import Table\n"
   ]
  },
  {
   "cell_type": "markdown",
   "id": "c1535dd9",
   "metadata": {},
   "source": [
    "## Connect The MySQL Database"
   ]
  },
  {
   "cell_type": "code",
   "execution_count": 2,
   "id": "5fe77647",
   "metadata": {},
   "outputs": [],
   "source": [
    "# connecting MySQL Database To Python\n",
    "db = my_conn.connect(\n",
    "    host = \"localhost\",\n",
    "    user = \"root\",\n",
    "    password = \"root\",\n",
    "    database = \"sql_city\",\n",
    "    consume_results=True\n",
    ")"
   ]
  },
  {
   "cell_type": "code",
   "execution_count": 3,
   "id": "5f8bcac0",
   "metadata": {},
   "outputs": [],
   "source": [
    "db_cursor = db.cursor() "
   ]
  },
  {
   "cell_type": "markdown",
   "id": "b1428f6c",
   "metadata": {},
   "source": [
    "## Table Content Exploration In The sql_city Database "
   ]
  },
  {
   "cell_type": "code",
   "execution_count": 4,
   "id": "06b40e61",
   "metadata": {},
   "outputs": [
    {
     "name": "stdout",
     "output_type": "stream",
     "text": [
      "1 :  crime_scene_report\n",
      "2 :  drivers_license\n",
      "3 :  facebook_event_checkin\n",
      "4 :  get_fit_now_check_in\n",
      "5 :  get_fit_now_member\n",
      "6 :  income\n",
      "7 :  interview\n",
      "8 :  person\n",
      "9 :  solutions\n"
     ]
    }
   ],
   "source": [
    "# Getting table names in the sql_city database in the Local MySQL Database Management System\n",
    "i = 1\n",
    "db_cursor.execute(\"SHOW TABLES\")\n",
    "for x in db_cursor:\n",
    "    print(i, \": \", x[0])\n",
    "    i+=1"
   ]
  },
  {
   "cell_type": "markdown",
   "id": "a07439c4",
   "metadata": {},
   "source": [
    "---"
   ]
  },
  {
   "cell_type": "code",
   "execution_count": 5,
   "id": "c1abe2f8",
   "metadata": {
    "scrolled": false
   },
   "outputs": [
    {
     "data": {
      "text/html": [
       "<pre style=\"white-space:pre;overflow-x:auto;line-height:normal;font-family:Menlo,'DejaVu Sans Mono',consolas,'Courier New',monospace\">┏━━━━━━━━━━━━━━━━━━━━━━━━━━━━━━━━━━━━━━━━━━━━━━━━━━━━━━━━━━━━━━━━━━━━━━━━━━━━━━━━━━━━━━━━━┓\n",
       "┃<span style=\"font-weight: bold\"> crime_scene_report                                                                      </span>┃\n",
       "┡━━━━━━━━━━━━━━━━━━━━━━━━━━━━━━━━━━━━━━━━━━━━━━━━━━━━━━━━━━━━━━━━━━━━━━━━━━━━━━━━━━━━━━━━━┩\n",
       "│        date     type                                              description      city │\n",
       "│ 0  20180115  robbery        A Man Dressed as Spider-Man Is on a Robbery Spree       NYC │\n",
       "│ 1  20180115   murder                        Life? Dont talk to me about life.    Albany │\n",
       "│ 2  20180115   murder      Mama, I killed a man, put a gun against his head...      Reno │\n",
       "│ 3  20180215   murder                               REDACTED REDACTED REDACTED  SQL City │\n",
       "│ 4  20180215   murder  Someone killed the guard! He took an arrow to the knee!  SQL City │\n",
       "└─────────────────────────────────────────────────────────────────────────────────────────┘\n",
       "</pre>\n"
      ],
      "text/plain": [
       "┏━━━━━━━━━━━━━━━━━━━━━━━━━━━━━━━━━━━━━━━━━━━━━━━━━━━━━━━━━━━━━━━━━━━━━━━━━━━━━━━━━━━━━━━━━┓\n",
       "┃\u001b[1m \u001b[0m\u001b[1mcrime_scene_report                                                                     \u001b[0m\u001b[1m \u001b[0m┃\n",
       "┡━━━━━━━━━━━━━━━━━━━━━━━━━━━━━━━━━━━━━━━━━━━━━━━━━━━━━━━━━━━━━━━━━━━━━━━━━━━━━━━━━━━━━━━━━┩\n",
       "│        date     type                                              description      city │\n",
       "│ 0  20180115  robbery        A Man Dressed as Spider-Man Is on a Robbery Spree       NYC │\n",
       "│ 1  20180115   murder                        Life? Dont talk to me about life.    Albany │\n",
       "│ 2  20180115   murder      Mama, I killed a man, put a gun against his head...      Reno │\n",
       "│ 3  20180215   murder                               REDACTED REDACTED REDACTED  SQL City │\n",
       "│ 4  20180215   murder  Someone killed the guard! He took an arrow to the knee!  SQL City │\n",
       "└─────────────────────────────────────────────────────────────────────────────────────────┘\n"
      ]
     },
     "metadata": {},
     "output_type": "display_data"
    },
    {
     "data": {
      "text/html": [
       "<pre style=\"white-space:pre;overflow-x:auto;line-height:normal;font-family:Menlo,'DejaVu Sans Mono',consolas,'Courier New',monospace\">┏━━━━━━━━━━━━━━━━━━━━━━━━━━━━━━━━━━━━━━━━━━━━━━━━━━━━━━━━━━━━━━━━━━━━━━━━━━━━━━━━━━━━━━┓\n",
       "┃<span style=\"font-weight: bold\"> drivers_license                                                                      </span>┃\n",
       "┡━━━━━━━━━━━━━━━━━━━━━━━━━━━━━━━━━━━━━━━━━━━━━━━━━━━━━━━━━━━━━━━━━━━━━━━━━━━━━━━━━━━━━━┩\n",
       "│        id  age  height eye_color hair_color  gender plate_number  car_make car_model │\n",
       "│ 0  100280   72      57     brown        red    male       P24L4U     Acura       MDX │\n",
       "│ 1  100460   63      72     brown      brown  female       XF02T6  Cadillac       SRX │\n",
       "│ 2  101029   62      74     green      green  female       VKY5KR     Scion        xB │\n",
       "│ 3  101198   43      54     amber      brown  female       Y5NZ08    Nissan     Rogue │\n",
       "│ 4  101255   18      79      blue       grey  female       5162Z1     Lexus        GS │\n",
       "└──────────────────────────────────────────────────────────────────────────────────────┘\n",
       "</pre>\n"
      ],
      "text/plain": [
       "┏━━━━━━━━━━━━━━━━━━━━━━━━━━━━━━━━━━━━━━━━━━━━━━━━━━━━━━━━━━━━━━━━━━━━━━━━━━━━━━━━━━━━━━┓\n",
       "┃\u001b[1m \u001b[0m\u001b[1mdrivers_license                                                                     \u001b[0m\u001b[1m \u001b[0m┃\n",
       "┡━━━━━━━━━━━━━━━━━━━━━━━━━━━━━━━━━━━━━━━━━━━━━━━━━━━━━━━━━━━━━━━━━━━━━━━━━━━━━━━━━━━━━━┩\n",
       "│        id  age  height eye_color hair_color  gender plate_number  car_make car_model │\n",
       "│ 0  100280   72      57     brown        red    male       P24L4U     Acura       MDX │\n",
       "│ 1  100460   63      72     brown      brown  female       XF02T6  Cadillac       SRX │\n",
       "│ 2  101029   62      74     green      green  female       VKY5KR     Scion        xB │\n",
       "│ 3  101198   43      54     amber      brown  female       Y5NZ08    Nissan     Rogue │\n",
       "│ 4  101255   18      79      blue       grey  female       5162Z1     Lexus        GS │\n",
       "└──────────────────────────────────────────────────────────────────────────────────────┘\n"
      ]
     },
     "metadata": {},
     "output_type": "display_data"
    },
    {
     "data": {
      "text/html": [
       "<pre style=\"white-space:pre;overflow-x:auto;line-height:normal;font-family:Menlo,'DejaVu Sans Mono',consolas,'Courier New',monospace\">┏━━━━━━━━━━━━━━━━━━━━━━━━━━━━━━━━━━━━━━━━━━━━━━━━━━━━━━━━━━━━━━━━━━━━━━━━━━━━━━━━━━━━━━━━━━━━━━━━━━━━━━━┓\n",
       "┃<span style=\"font-weight: bold\"> facebook_event_checkin                                                                                </span>┃\n",
       "┡━━━━━━━━━━━━━━━━━━━━━━━━━━━━━━━━━━━━━━━━━━━━━━━━━━━━━━━━━━━━━━━━━━━━━━━━━━━━━━━━━━━━━━━━━━━━━━━━━━━━━━━┩\n",
       "│    person_id  event_id                                                           event_name      date │\n",
       "│ 0      28508      5880                      Nudists are people who wear one-button suits.\\n  20170913 │\n",
       "│ 1      63713      3865  but that's because it's the best book on anything for the layman.\\n  20171009 │\n",
       "│ 2      63713      3999                             If Murphy's Law can go wrong, it will.\\n  20170502 │\n",
       "│ 3      63713      6436     Old programmers never die.  They just branch to a new address.\\n  20170926 │\n",
       "│ 4      82998      4470                                 Help a swallow land at Capistrano.\\n  20171022 │\n",
       "└───────────────────────────────────────────────────────────────────────────────────────────────────────┘\n",
       "</pre>\n"
      ],
      "text/plain": [
       "┏━━━━━━━━━━━━━━━━━━━━━━━━━━━━━━━━━━━━━━━━━━━━━━━━━━━━━━━━━━━━━━━━━━━━━━━━━━━━━━━━━━━━━━━━━━━━━━━━━━━━━━━┓\n",
       "┃\u001b[1m \u001b[0m\u001b[1mfacebook_event_checkin                                                                               \u001b[0m\u001b[1m \u001b[0m┃\n",
       "┡━━━━━━━━━━━━━━━━━━━━━━━━━━━━━━━━━━━━━━━━━━━━━━━━━━━━━━━━━━━━━━━━━━━━━━━━━━━━━━━━━━━━━━━━━━━━━━━━━━━━━━━┩\n",
       "│    person_id  event_id                                                           event_name      date │\n",
       "│ 0      28508      5880                      Nudists are people who wear one-button suits.\\n  20170913 │\n",
       "│ 1      63713      3865  but that's because it's the best book on anything for the layman.\\n  20171009 │\n",
       "│ 2      63713      3999                             If Murphy's Law can go wrong, it will.\\n  20170502 │\n",
       "│ 3      63713      6436     Old programmers never die.  They just branch to a new address.\\n  20170926 │\n",
       "│ 4      82998      4470                                 Help a swallow land at Capistrano.\\n  20171022 │\n",
       "└───────────────────────────────────────────────────────────────────────────────────────────────────────┘\n"
      ]
     },
     "metadata": {},
     "output_type": "display_data"
    },
    {
     "data": {
      "text/html": [
       "<pre style=\"white-space:pre;overflow-x:auto;line-height:normal;font-family:Menlo,'DejaVu Sans Mono',consolas,'Courier New',monospace\">┏━━━━━━━━━━━━━━━━━━━━━━━━━━━━━━━━━━━━━━━━━━━━━━━━━━━━━━━━━━━━━━━┓\n",
       "┃<span style=\"font-weight: bold\"> get_fit_now_check_in                                          </span>┃\n",
       "┡━━━━━━━━━━━━━━━━━━━━━━━━━━━━━━━━━━━━━━━━━━━━━━━━━━━━━━━━━━━━━━━┩\n",
       "│   membership_id  check_in_date  check_in_time  check_out_time │\n",
       "│ 0         NL318       20180212            329             365 │\n",
       "│ 1         NL318       20170811            469             920 │\n",
       "│ 2         NL318       20180429            506             554 │\n",
       "│ 3         NL318       20180128            124             759 │\n",
       "│ 4         NL318       20171027            418            1019 │\n",
       "└───────────────────────────────────────────────────────────────┘\n",
       "</pre>\n"
      ],
      "text/plain": [
       "┏━━━━━━━━━━━━━━━━━━━━━━━━━━━━━━━━━━━━━━━━━━━━━━━━━━━━━━━━━━━━━━━┓\n",
       "┃\u001b[1m \u001b[0m\u001b[1mget_fit_now_check_in                                         \u001b[0m\u001b[1m \u001b[0m┃\n",
       "┡━━━━━━━━━━━━━━━━━━━━━━━━━━━━━━━━━━━━━━━━━━━━━━━━━━━━━━━━━━━━━━━┩\n",
       "│   membership_id  check_in_date  check_in_time  check_out_time │\n",
       "│ 0         NL318       20180212            329             365 │\n",
       "│ 1         NL318       20170811            469             920 │\n",
       "│ 2         NL318       20180429            506             554 │\n",
       "│ 3         NL318       20180128            124             759 │\n",
       "│ 4         NL318       20171027            418            1019 │\n",
       "└───────────────────────────────────────────────────────────────┘\n"
      ]
     },
     "metadata": {},
     "output_type": "display_data"
    },
    {
     "data": {
      "text/html": [
       "<pre style=\"white-space:pre;overflow-x:auto;line-height:normal;font-family:Menlo,'DejaVu Sans Mono',consolas,'Courier New',monospace\">┏━━━━━━━━━━━━━━━━━━━━━━━━━━━━━━━━━━━━━━━━━━━━━━━━━━━━━━━━━━━━━━━━━━━━━━━━━━━━━━━━━┓\n",
       "┃<span style=\"font-weight: bold\"> get_fit_now_member                                                              </span>┃\n",
       "┡━━━━━━━━━━━━━━━━━━━━━━━━━━━━━━━━━━━━━━━━━━━━━━━━━━━━━━━━━━━━━━━━━━━━━━━━━━━━━━━━━┩\n",
       "│       id  person_id               name  membership_start_date membership_status │\n",
       "│ 0  03487      73490  Lyman Harshbarger               20170529            silver │\n",
       "│ 1  06V71      50993      Travis Windly               20170812              gold │\n",
       "│ 2  07QP3      15980       Hugh Piascik               20171222           regular │\n",
       "│ 3  0862D      62171       Johana Dayer               20170612              gold │\n",
       "│ 4  0CR33      62561         Noe Elgart               20170627              gold │\n",
       "└─────────────────────────────────────────────────────────────────────────────────┘\n",
       "</pre>\n"
      ],
      "text/plain": [
       "┏━━━━━━━━━━━━━━━━━━━━━━━━━━━━━━━━━━━━━━━━━━━━━━━━━━━━━━━━━━━━━━━━━━━━━━━━━━━━━━━━━┓\n",
       "┃\u001b[1m \u001b[0m\u001b[1mget_fit_now_member                                                             \u001b[0m\u001b[1m \u001b[0m┃\n",
       "┡━━━━━━━━━━━━━━━━━━━━━━━━━━━━━━━━━━━━━━━━━━━━━━━━━━━━━━━━━━━━━━━━━━━━━━━━━━━━━━━━━┩\n",
       "│       id  person_id               name  membership_start_date membership_status │\n",
       "│ 0  03487      73490  Lyman Harshbarger               20170529            silver │\n",
       "│ 1  06V71      50993      Travis Windly               20170812              gold │\n",
       "│ 2  07QP3      15980       Hugh Piascik               20171222           regular │\n",
       "│ 3  0862D      62171       Johana Dayer               20170612              gold │\n",
       "│ 4  0CR33      62561         Noe Elgart               20170627              gold │\n",
       "└─────────────────────────────────────────────────────────────────────────────────┘\n"
      ]
     },
     "metadata": {},
     "output_type": "display_data"
    },
    {
     "data": {
      "text/html": [
       "<pre style=\"white-space:pre;overflow-x:auto;line-height:normal;font-family:Menlo,'DejaVu Sans Mono',consolas,'Courier New',monospace\">┏━━━━━━━━━━━━━━━━━━━━━━━━━━━━━┓\n",
       "┃<span style=\"font-weight: bold\"> income                      </span>┃\n",
       "┡━━━━━━━━━━━━━━━━━━━━━━━━━━━━━┩\n",
       "│          ssn  annual_income │\n",
       "│ 0  100009868          52200 │\n",
       "│ 1  100169584          64500 │\n",
       "│ 2  100300433          74400 │\n",
       "│ 3  100355733          35900 │\n",
       "│ 4  100366269          73000 │\n",
       "└─────────────────────────────┘\n",
       "</pre>\n"
      ],
      "text/plain": [
       "┏━━━━━━━━━━━━━━━━━━━━━━━━━━━━━┓\n",
       "┃\u001b[1m \u001b[0m\u001b[1mincome                     \u001b[0m\u001b[1m \u001b[0m┃\n",
       "┡━━━━━━━━━━━━━━━━━━━━━━━━━━━━━┩\n",
       "│          ssn  annual_income │\n",
       "│ 0  100009868          52200 │\n",
       "│ 1  100169584          64500 │\n",
       "│ 2  100300433          74400 │\n",
       "│ 3  100355733          35900 │\n",
       "│ 4  100366269          73000 │\n",
       "└─────────────────────────────┘\n"
      ]
     },
     "metadata": {},
     "output_type": "display_data"
    },
    {
     "data": {
      "text/html": [
       "<pre style=\"white-space:pre;overflow-x:auto;line-height:normal;font-family:Menlo,'DejaVu Sans Mono',consolas,'Courier New',monospace\">┏━━━━━━━━━━━━━━━━━━━━━━━━━━━━━━━━━━━━━━━━━━━━━━━━━━━━━━━━━━━━━━━━━━━━━━━━━━━━━━━━━━━━━━━┓\n",
       "┃<span style=\"font-weight: bold\"> interview                                                                             </span>┃\n",
       "┡━━━━━━━━━━━━━━━━━━━━━━━━━━━━━━━━━━━━━━━━━━━━━━━━━━━━━━━━━━━━━━━━━━━━━━━━━━━━━━━━━━━━━━━┩\n",
       "│    person_id                                                               transcript │\n",
       "│ 0      28508                                      ‘I deny it!’ said the March Hare.\\n │\n",
       "│ 1      63713                                                                       \\n │\n",
       "│ 2      86208                            way, and the whole party swam to the shore.\\n │\n",
       "│ 3      35267  lessons in here? Why, there’s hardly room for YOU, and no room at all\\n │\n",
       "│ 4      33856                                                                       \\n │\n",
       "└───────────────────────────────────────────────────────────────────────────────────────┘\n",
       "</pre>\n"
      ],
      "text/plain": [
       "┏━━━━━━━━━━━━━━━━━━━━━━━━━━━━━━━━━━━━━━━━━━━━━━━━━━━━━━━━━━━━━━━━━━━━━━━━━━━━━━━━━━━━━━━┓\n",
       "┃\u001b[1m \u001b[0m\u001b[1minterview                                                                            \u001b[0m\u001b[1m \u001b[0m┃\n",
       "┡━━━━━━━━━━━━━━━━━━━━━━━━━━━━━━━━━━━━━━━━━━━━━━━━━━━━━━━━━━━━━━━━━━━━━━━━━━━━━━━━━━━━━━━┩\n",
       "│    person_id                                                               transcript │\n",
       "│ 0      28508                                      ‘I deny it!’ said the March Hare.\\n │\n",
       "│ 1      63713                                                                       \\n │\n",
       "│ 2      86208                            way, and the whole party swam to the shore.\\n │\n",
       "│ 3      35267  lessons in here? Why, there’s hardly room for YOU, and no room at all\\n │\n",
       "│ 4      33856                                                                       \\n │\n",
       "└───────────────────────────────────────────────────────────────────────────────────────┘\n"
      ]
     },
     "metadata": {},
     "output_type": "display_data"
    },
    {
     "data": {
      "text/html": [
       "<pre style=\"white-space:pre;overflow-x:auto;line-height:normal;font-family:Menlo,'DejaVu Sans Mono',consolas,'Courier New',monospace\">┏━━━━━━━━━━━━━━━━━━━━━━━━━━━━━━━━━━━━━━━━━━━━━━━━━━━━━━━━━━━━━━━━━━━━━━━━━━━━━━━━━━━━━━━━━━┓\n",
       "┃<span style=\"font-weight: bold\"> person                                                                                   </span>┃\n",
       "┡━━━━━━━━━━━━━━━━━━━━━━━━━━━━━━━━━━━━━━━━━━━━━━━━━━━━━━━━━━━━━━━━━━━━━━━━━━━━━━━━━━━━━━━━━━┩\n",
       "│       id                 name  license_id  address_number address_street_name        ssn │\n",
       "│ 0  10000   Christoper Peteuil      993845             624        Bankhall Ave  747714076 │\n",
       "│ 1  10007  Kourtney Calderwood      861794            2791       Gustavus Blvd  477972044 │\n",
       "│ 2  10010            Muoi Cary      385336             741     Northwestern Dr  828638512 │\n",
       "│ 3  10016          Era Moselle      431897            1987       Wood Glade St  614621061 │\n",
       "│ 4  10025         Trena Hornby      550890             276       Daws Hill Way  223877684 │\n",
       "└──────────────────────────────────────────────────────────────────────────────────────────┘\n",
       "</pre>\n"
      ],
      "text/plain": [
       "┏━━━━━━━━━━━━━━━━━━━━━━━━━━━━━━━━━━━━━━━━━━━━━━━━━━━━━━━━━━━━━━━━━━━━━━━━━━━━━━━━━━━━━━━━━━┓\n",
       "┃\u001b[1m \u001b[0m\u001b[1mperson                                                                                  \u001b[0m\u001b[1m \u001b[0m┃\n",
       "┡━━━━━━━━━━━━━━━━━━━━━━━━━━━━━━━━━━━━━━━━━━━━━━━━━━━━━━━━━━━━━━━━━━━━━━━━━━━━━━━━━━━━━━━━━━┩\n",
       "│       id                 name  license_id  address_number address_street_name        ssn │\n",
       "│ 0  10000   Christoper Peteuil      993845             624        Bankhall Ave  747714076 │\n",
       "│ 1  10007  Kourtney Calderwood      861794            2791       Gustavus Blvd  477972044 │\n",
       "│ 2  10010            Muoi Cary      385336             741     Northwestern Dr  828638512 │\n",
       "│ 3  10016          Era Moselle      431897            1987       Wood Glade St  614621061 │\n",
       "│ 4  10025         Trena Hornby      550890             276       Daws Hill Way  223877684 │\n",
       "└──────────────────────────────────────────────────────────────────────────────────────────┘\n"
      ]
     },
     "metadata": {},
     "output_type": "display_data"
    },
    {
     "data": {
      "text/html": [
       "<pre style=\"white-space:pre;overflow-x:auto;line-height:normal;font-family:Menlo,'DejaVu Sans Mono',consolas,'Courier New',monospace\">┏━━━━━━━━━━━━━━━━━━━━━━━━━━━━━━━━━━━━━━━━━━━━━━━━━━━━━━━━━━━━━━━━━━━━━━━━━━━━━━━━━━━━━━━━━━━━━━━━━━━━━━━━━━━━━━━━━┓\n",
       "┃<span style=\"font-weight: bold\"> solutions                                                                                                       </span>┃\n",
       "┡━━━━━━━━━━━━━━━━━━━━━━━━━━━━━━━━━━━━━━━━━━━━━━━━━━━━━━━━━━━━━━━━━━━━━━━━━━━━━━━━━━━━━━━━━━━━━━━━━━━━━━━━━━━━━━━━━┩\n",
       "│                                user                                                                             │\n",
       "│ value                                                                                                           │\n",
       "│ 0        4A6572656D7920426F77657273  Congrats, you found the murderer! But wait, there is more... If you think  │\n",
       "│ you are up for a challenge, try querying the interview transcript of the murderer to find the real villain      │\n",
       "│ behind this crime. If you feel especially confident in your SQL skills, try to complete this final step with no │\n",
       "│ more than 2 queries.                                                                                            │\n",
       "│ 1  4D6972616E6461205072696573746C79                                                                             │\n",
       "│ Congrats, you found the brains behind the murder! Everyone in SQL City hails you as the greatest SQL detective  │\n",
       "│ of all time. Time to break out the champagne!                                                                   │\n",
       "│ 2                          4E45494E                                                                             │\n",
       "│ That is not the right person. Try again!                                                                        │\n",
       "└─────────────────────────────────────────────────────────────────────────────────────────────────────────────────┘\n",
       "</pre>\n"
      ],
      "text/plain": [
       "┏━━━━━━━━━━━━━━━━━━━━━━━━━━━━━━━━━━━━━━━━━━━━━━━━━━━━━━━━━━━━━━━━━━━━━━━━━━━━━━━━━━━━━━━━━━━━━━━━━━━━━━━━━━━━━━━━━┓\n",
       "┃\u001b[1m \u001b[0m\u001b[1msolutions                                                                                                      \u001b[0m\u001b[1m \u001b[0m┃\n",
       "┡━━━━━━━━━━━━━━━━━━━━━━━━━━━━━━━━━━━━━━━━━━━━━━━━━━━━━━━━━━━━━━━━━━━━━━━━━━━━━━━━━━━━━━━━━━━━━━━━━━━━━━━━━━━━━━━━━┩\n",
       "│                                user                                                                             │\n",
       "│ value                                                                                                           │\n",
       "│ 0        4A6572656D7920426F77657273  Congrats, you found the murderer! But wait, there is more... If you think  │\n",
       "│ you are up for a challenge, try querying the interview transcript of the murderer to find the real villain      │\n",
       "│ behind this crime. If you feel especially confident in your SQL skills, try to complete this final step with no │\n",
       "│ more than 2 queries.                                                                                            │\n",
       "│ 1  4D6972616E6461205072696573746C79                                                                             │\n",
       "│ Congrats, you found the brains behind the murder! Everyone in SQL City hails you as the greatest SQL detective  │\n",
       "│ of all time. Time to break out the champagne!                                                                   │\n",
       "│ 2                          4E45494E                                                                             │\n",
       "│ That is not the right person. Try again!                                                                        │\n",
       "└─────────────────────────────────────────────────────────────────────────────────────────────────────────────────┘\n"
      ]
     },
     "metadata": {},
     "output_type": "display_data"
    }
   ],
   "source": [
    "# Getting data from each row for deeper investigation\n",
    "db_cursor.execute(\"SHOW TABLES\")\n",
    "tables = db_cursor.fetchall()\n",
    "\n",
    "for i in tables:\n",
    "    db_cursor.execute(\"SELECT * FROM %s \"  %i[0])\n",
    "    data = db_cursor.fetchall()\n",
    "    columns = db_cursor.column_names\n",
    "    \n",
    "    console = Console()\n",
    "    table = Table(i[0])\n",
    "    df = pd.DataFrame(data=data, columns=columns).head()\n",
    "    table.add_row(df.to_string())\n",
    "    console.print(table)"
   ]
  },
  {
   "cell_type": "markdown",
   "id": "fc5c595c",
   "metadata": {},
   "source": [
    "---"
   ]
  },
  {
   "cell_type": "markdown",
   "id": "157549d3",
   "metadata": {},
   "source": [
    "## Steps For Enlightening The Murder Mystery"
   ]
  },
  {
   "cell_type": "markdown",
   "id": "aef45fd3",
   "metadata": {},
   "source": [
    "### Step1: Get Crime Scene Report By Using OnHand Information"
   ]
  },
  {
   "cell_type": "markdown",
   "id": "4edf25d3",
   "metadata": {},
   "source": [
    "As it is indicated in the problem description, the murder has been occurred in the **SQL City** on  **Jan.15, 2018**. Therefore, crime details should be pulled from the crime_scene_report with respect to 'SQL City', 'Jan.15, 2018' and 'murder' criterions"
   ]
  },
  {
   "cell_type": "code",
   "execution_count": 6,
   "id": "e4c988df",
   "metadata": {},
   "outputs": [
    {
     "name": "stdout",
     "output_type": "stream",
     "text": [
      "Security footage shows that there were 2 witnesses. The first witness lives at the last house on \"Northwestern Dr\". The second witness, named Annabel, lives somewhere on \"Franklin Ave\".\n"
     ]
    }
   ],
   "source": [
    "# Crime Scene Report\n",
    "db_cursor.execute(\"SELECT description FROM crime_scene_report WHERE city = 'SQL City' AND date='20180115' AND type = 'murder'\")\n",
    "print(db_cursor.fetchall()[0][0])"
   ]
  },
  {
   "cell_type": "markdown",
   "id": "c093adde",
   "metadata": {},
   "source": [
    "---"
   ]
  },
  {
   "cell_type": "markdown",
   "id": "07f36a2f",
   "metadata": {},
   "source": [
    "### Step2: Find The Witnesses"
   ]
  },
  {
   "cell_type": "markdown",
   "id": "ba28ad93",
   "metadata": {},
   "source": [
    "To get deeper understanding about the case, two witnesses and their interviews must be found."
   ]
  },
  {
   "cell_type": "code",
   "execution_count": 7,
   "id": "8084bb67",
   "metadata": {},
   "outputs": [
    {
     "data": {
      "text/html": [
       "<div>\n",
       "<style scoped>\n",
       "    .dataframe tbody tr th:only-of-type {\n",
       "        vertical-align: middle;\n",
       "    }\n",
       "\n",
       "    .dataframe tbody tr th {\n",
       "        vertical-align: top;\n",
       "    }\n",
       "\n",
       "    .dataframe thead th {\n",
       "        text-align: right;\n",
       "    }\n",
       "</style>\n",
       "<table border=\"1\" class=\"dataframe\">\n",
       "  <thead>\n",
       "    <tr style=\"text-align: right;\">\n",
       "      <th></th>\n",
       "      <th>id</th>\n",
       "      <th>name</th>\n",
       "      <th>license_id</th>\n",
       "      <th>address_number</th>\n",
       "      <th>address_street_name</th>\n",
       "      <th>ssn</th>\n",
       "    </tr>\n",
       "  </thead>\n",
       "  <tbody>\n",
       "    <tr>\n",
       "      <th>0</th>\n",
       "      <td>14887</td>\n",
       "      <td>Morty Schapiro</td>\n",
       "      <td>118009</td>\n",
       "      <td>4919</td>\n",
       "      <td>Northwestern Dr</td>\n",
       "      <td>111564949</td>\n",
       "    </tr>\n",
       "    <tr>\n",
       "      <th>1</th>\n",
       "      <td>17729</td>\n",
       "      <td>Lasonya Wildey</td>\n",
       "      <td>439686</td>\n",
       "      <td>3824</td>\n",
       "      <td>Northwestern Dr</td>\n",
       "      <td>917817122</td>\n",
       "    </tr>\n",
       "    <tr>\n",
       "      <th>2</th>\n",
       "      <td>53890</td>\n",
       "      <td>Sophie Tiberio</td>\n",
       "      <td>957671</td>\n",
       "      <td>3755</td>\n",
       "      <td>Northwestern Dr</td>\n",
       "      <td>442830147</td>\n",
       "    </tr>\n",
       "  </tbody>\n",
       "</table>\n",
       "</div>"
      ],
      "text/plain": [
       "      id            name  license_id  address_number address_street_name  \\\n",
       "0  14887  Morty Schapiro      118009            4919     Northwestern Dr   \n",
       "1  17729  Lasonya Wildey      439686            3824     Northwestern Dr   \n",
       "2  53890  Sophie Tiberio      957671            3755     Northwestern Dr   \n",
       "\n",
       "         ssn  \n",
       "0  111564949  \n",
       "1  917817122  \n",
       "2  442830147  "
      ]
     },
     "execution_count": 7,
     "metadata": {},
     "output_type": "execute_result"
    }
   ],
   "source": [
    "# First Witness\n",
    "# The first witness lives at the last house on \"Northwestern Dr\".\n",
    "db_cursor.execute(\"SELECT * FROM person WHERE address_street_name='Northwestern Dr' ORDER BY address_number DESC LIMIT 3\")\n",
    "pd.DataFrame(data=db_cursor.fetchall(), columns=db_cursor.column_names)"
   ]
  },
  {
   "cell_type": "markdown",
   "id": "ee4f02d7",
   "metadata": {},
   "source": [
    "As it is shown in the above data frame, last house on \"Northwestern Dr\" should have biggest address number. Therefore, it should be **Morty Schapiro** with the **14887 id and 118009 license number**."
   ]
  },
  {
   "cell_type": "code",
   "execution_count": 8,
   "id": "3ceef811",
   "metadata": {},
   "outputs": [
    {
     "data": {
      "text/html": [
       "<div>\n",
       "<style scoped>\n",
       "    .dataframe tbody tr th:only-of-type {\n",
       "        vertical-align: middle;\n",
       "    }\n",
       "\n",
       "    .dataframe tbody tr th {\n",
       "        vertical-align: top;\n",
       "    }\n",
       "\n",
       "    .dataframe thead th {\n",
       "        text-align: right;\n",
       "    }\n",
       "</style>\n",
       "<table border=\"1\" class=\"dataframe\">\n",
       "  <thead>\n",
       "    <tr style=\"text-align: right;\">\n",
       "      <th></th>\n",
       "      <th>id</th>\n",
       "      <th>name</th>\n",
       "      <th>license_id</th>\n",
       "      <th>address_number</th>\n",
       "      <th>address_street_name</th>\n",
       "      <th>ssn</th>\n",
       "    </tr>\n",
       "  </thead>\n",
       "  <tbody>\n",
       "    <tr>\n",
       "      <th>0</th>\n",
       "      <td>16371</td>\n",
       "      <td>Annabel Miller</td>\n",
       "      <td>490173</td>\n",
       "      <td>103</td>\n",
       "      <td>Franklin Ave</td>\n",
       "      <td>318771143</td>\n",
       "    </tr>\n",
       "  </tbody>\n",
       "</table>\n",
       "</div>"
      ],
      "text/plain": [
       "      id            name  license_id  address_number address_street_name  \\\n",
       "0  16371  Annabel Miller      490173             103        Franklin Ave   \n",
       "\n",
       "         ssn  \n",
       "0  318771143  "
      ]
     },
     "execution_count": 8,
     "metadata": {},
     "output_type": "execute_result"
    }
   ],
   "source": [
    "# Second Witness\n",
    "# The second witness, named Annabel, lives somewhere on \"Franklin Ave\".\n",
    "db_cursor.execute(\"SELECT * FROM person WHERE name LIKE '%Annabel%' AND address_street_name='Franklin Ave'\")\n",
    "pd.DataFrame(data=db_cursor.fetchall(), columns=db_cursor.column_names)"
   ]
  },
  {
   "cell_type": "markdown",
   "id": "602619f9",
   "metadata": {},
   "source": [
    "As it is shown in the above data frame, second witness should be **Annabel Miller**. Since, she is the only record in person table who lives somewhere on the 'Franklin Ave' with name similarity."
   ]
  },
  {
   "cell_type": "markdown",
   "id": "b8b05244",
   "metadata": {},
   "source": [
    "---"
   ]
  },
  {
   "cell_type": "markdown",
   "id": "a6bc3108",
   "metadata": {},
   "source": [
    "### Step3: Go To Witnesses' Interviews"
   ]
  },
  {
   "cell_type": "markdown",
   "id": "be76aed0",
   "metadata": {},
   "source": [
    "As second step findings, **First Witness is Morty Schapiro** and **Second Witness is Annabel Miller**."
   ]
  },
  {
   "cell_type": "code",
   "execution_count": 9,
   "id": "ed96c983",
   "metadata": {},
   "outputs": [
    {
     "data": {
      "text/plain": [
       "[('I heard a gunshot and then saw a man run out. He had a \"Get Fit Now Gym\" bag. The membership number on the bag started with \"48Z\". Only gold members have those bags. The man got into a car with a plate that included \"H42W\".',)]"
      ]
     },
     "execution_count": 9,
     "metadata": {},
     "output_type": "execute_result"
    }
   ],
   "source": [
    "# First Witness(Morty Schapiro) Interview\n",
    "db_cursor.execute(\"SELECT transcript FROM interview WHERE person_id = (SELECT id FROM person WHERE address_street_name='Northwestern Dr' ORDER BY address_number DESC LIMIT 1)\")\n",
    "db_cursor.fetchall()"
   ]
  },
  {
   "cell_type": "markdown",
   "id": "194a96fa",
   "metadata": {},
   "source": [
    "OnHand Information: **A Male**, \"Get Fit Now Gym\" bag(**gold member**), membership number with **\"48Z\"**, car plate with **\"H42W\"**"
   ]
  },
  {
   "cell_type": "code",
   "execution_count": 10,
   "id": "5812b6c9",
   "metadata": {},
   "outputs": [
    {
     "data": {
      "text/plain": [
       "[('I saw the murder happen, and I recognized the killer from my gym when I was working out last week on January the 9th.',)]"
      ]
     },
     "execution_count": 10,
     "metadata": {},
     "output_type": "execute_result"
    }
   ],
   "source": [
    "# Second Witness(Annabel Miller) Interview\n",
    "db_cursor.execute(\"SELECT transcript FROM interview WHERE person_id = (SELECT id FROM person WHERE name LIKE '%Annabel%' AND address_street_name='Franklin Ave')\")\n",
    "db_cursor.fetchall()"
   ]
  },
  {
   "cell_type": "markdown",
   "id": "a722d8fa",
   "metadata": {},
   "source": [
    "OnHand Information: Killer was at the gym on **Jan.09,2018**"
   ]
  },
  {
   "cell_type": "markdown",
   "id": "7c38e569",
   "metadata": {},
   "source": [
    "---"
   ]
  },
  {
   "cell_type": "markdown",
   "id": "414c36c8",
   "metadata": {},
   "source": [
    "### Step4: Track Down The Killer From The Gym System And Driver Licence"
   ]
  },
  {
   "cell_type": "code",
   "execution_count": 11,
   "id": "d628c241",
   "metadata": {},
   "outputs": [
    {
     "data": {
      "text/plain": [
       "'Jeremy Bowers'"
      ]
     },
     "execution_count": 11,
     "metadata": {},
     "output_type": "execute_result"
    }
   ],
   "source": [
    "# Tracking Down The Killer According To Witnesses Interviews\n",
    "db_cursor.execute(\"SELECT member.name FROM get_fit_now_member member\\\n",
    "                   INNER JOIN person ON member.person_id=person.id \\\n",
    "                   INNER JOIN drivers_license dl ON dl.id = person.license_id \\\n",
    "                   INNER JOIN get_fit_now_check_in checkin ON checkin.membership_id = member.id \\\n",
    "                   WHERE member.membership_status = 'gold' \\\n",
    "                         AND member.id LIKE '%48Z%' \\\n",
    "                         AND dl.plate_number LIKE '%H42W%' \\\n",
    "                         AND checkin.check_in_date = '20180109'\")\n",
    "killer = db_cursor.fetchall()[0][0]\n",
    "killer"
   ]
  },
  {
   "cell_type": "markdown",
   "id": "811f8464",
   "metadata": {},
   "source": [
    "As a result of witnesses testifications, it is understood that **Jeremy Bowers** is the killer."
   ]
  },
  {
   "cell_type": "markdown",
   "id": "495e7ac9",
   "metadata": {},
   "source": [
    "---"
   ]
  },
  {
   "cell_type": "markdown",
   "id": "36a83e39",
   "metadata": {},
   "source": [
    "## Check The Result According To solutions Table In The Database"
   ]
  },
  {
   "cell_type": "code",
   "execution_count": 12,
   "id": "09aaa2bf",
   "metadata": {},
   "outputs": [
    {
     "data": {
      "text/html": [
       "<div>\n",
       "<style scoped>\n",
       "    .dataframe tbody tr th:only-of-type {\n",
       "        vertical-align: middle;\n",
       "    }\n",
       "\n",
       "    .dataframe tbody tr th {\n",
       "        vertical-align: top;\n",
       "    }\n",
       "\n",
       "    .dataframe thead th {\n",
       "        text-align: right;\n",
       "    }\n",
       "</style>\n",
       "<table border=\"1\" class=\"dataframe\">\n",
       "  <thead>\n",
       "    <tr style=\"text-align: right;\">\n",
       "      <th></th>\n",
       "      <th>user</th>\n",
       "      <th>value</th>\n",
       "    </tr>\n",
       "  </thead>\n",
       "  <tbody>\n",
       "    <tr>\n",
       "      <th>0</th>\n",
       "      <td>4A6572656D7920426F77657273</td>\n",
       "      <td>Congrats, you found the murderer! But wait, th...</td>\n",
       "    </tr>\n",
       "    <tr>\n",
       "      <th>1</th>\n",
       "      <td>4D6972616E6461205072696573746C79</td>\n",
       "      <td>Congrats, you found the brains behind the murd...</td>\n",
       "    </tr>\n",
       "    <tr>\n",
       "      <th>2</th>\n",
       "      <td>4E45494E</td>\n",
       "      <td>That is not the right person. Try again!</td>\n",
       "    </tr>\n",
       "  </tbody>\n",
       "</table>\n",
       "</div>"
      ],
      "text/plain": [
       "                               user  \\\n",
       "0        4A6572656D7920426F77657273   \n",
       "1  4D6972616E6461205072696573746C79   \n",
       "2                          4E45494E   \n",
       "\n",
       "                                               value  \n",
       "0  Congrats, you found the murderer! But wait, th...  \n",
       "1  Congrats, you found the brains behind the murd...  \n",
       "2           That is not the right person. Try again!  "
      ]
     },
     "execution_count": 12,
     "metadata": {},
     "output_type": "execute_result"
    }
   ],
   "source": [
    "# Get Answers To A DataFrame From The solutions Table From The Database\n",
    "db_cursor.execute(\"SELECT * FROM solutions\")\n",
    "df = pd.DataFrame(data=db_cursor.fetchall(), columns=db_cursor.column_names)\n",
    "df"
   ]
  },
  {
   "cell_type": "code",
   "execution_count": 13,
   "id": "bb51f798",
   "metadata": {},
   "outputs": [
    {
     "name": "stdout",
     "output_type": "stream",
     "text": [
      "Congrats, you found the murderer! But wait, there is more... If you think you are up for a challenge, try querying the interview transcript of the murderer to find the real villain behind this crime. If you feel especially confident in your SQL skills, try to complete this final step with no more than 2 queries.\n"
     ]
    }
   ],
   "source": [
    "# Check If The Killer That We Found Is The Right Person That Is In The solutions Table\n",
    "for i in range(0,len(df)):\n",
    "    if bytes.fromhex(df.loc[i,'user']).decode('utf-8') == killer:\n",
    "        print(df.loc[i,'value'])\n",
    "        break\n",
    "    elif i == 2:\n",
    "        print(df.loc[i,'value'])"
   ]
  },
  {
   "cell_type": "markdown",
   "id": "0f92175b",
   "metadata": {},
   "source": [
    "### BONUS"
   ]
  },
  {
   "cell_type": "markdown",
   "id": "c5a9794f",
   "metadata": {},
   "source": [
    "It seems the killer is just the tool. Therefore, instigator needs to be found."
   ]
  },
  {
   "cell_type": "code",
   "execution_count": 14,
   "id": "dbf36bef",
   "metadata": {},
   "outputs": [
    {
     "name": "stdout",
     "output_type": "stream",
     "text": [
      "I was hired by a woman with a lot of money. I don't know her name but I know she's around 5'5\" (65\") or 5'7\" (67\"). She has red hair and she drives a Tesla Model S. I know that she attended the SQL Symphony Concert 3 times in December 2017.\n",
      "\n"
     ]
    }
   ],
   "source": [
    "# Checking The Interview Of The Killer To Learn Clues About The Instigator\n",
    "db_cursor.execute(\"SELECT transcript FROM interview WHERE person_id = (SELECT id FROM person WHERE name='%s')\" %killer)\n",
    "print(db_cursor.fetchall()[0][0])"
   ]
  },
  {
   "cell_type": "markdown",
   "id": "9a38107f",
   "metadata": {},
   "source": [
    "OnHand Information: **Female** / Height  **5'5\" (65\") or 5'7\" (67\")** / **Red Hair** / **Tesla Model S** / **SQL Symphony Concert 3 times in December 2017**"
   ]
  },
  {
   "cell_type": "code",
   "execution_count": 15,
   "id": "9c960d56",
   "metadata": {},
   "outputs": [
    {
     "data": {
      "text/plain": [
       "'Miranda Priestly'"
      ]
     },
     "execution_count": 15,
     "metadata": {},
     "output_type": "execute_result"
    }
   ],
   "source": [
    "# Finding The Instigator By Using Killer Interview Clues\n",
    "db_cursor.execute(\"SELECT DISTINCT(person.name) FROM drivers_license dl \\\n",
    "                   INNER JOIN person ON dl.id = person.license_id \\\n",
    "                   INNER JOIN facebook_event_checkin fb ON fb.person_id = person.id \\\n",
    "                   WHERE fb.event_name LIKE '%SQL Symphony Concert%' AND fb.date LIKE '%201712%' AND\\\n",
    "                   dl.gender='female' AND dl.hair_color='red' AND dl.car_make='Tesla' AND dl.car_model = 'Model S' \")\n",
    "instigator = db_cursor.fetchall()[0][0]\n",
    "instigator"
   ]
  },
  {
   "cell_type": "markdown",
   "id": "c5d346ca",
   "metadata": {},
   "source": [
    "---"
   ]
  },
  {
   "cell_type": "code",
   "execution_count": 16,
   "id": "70c53cf7",
   "metadata": {},
   "outputs": [
    {
     "name": "stdout",
     "output_type": "stream",
     "text": [
      "Congrats, you found the brains behind the murder! Everyone in SQL City hails you as the greatest SQL detective of all time. Time to break out the champagne!\n"
     ]
    }
   ],
   "source": [
    "# Check If The Instigator That We Found Is The Right Person That Is In The solutions Table\n",
    "for i in range(0,len(df)):\n",
    "    if bytes.fromhex(df.loc[i,'user']).decode('utf-8') == instigator:\n",
    "        print(df.loc[i,'value'])\n",
    "        break\n",
    "    elif i == 2:\n",
    "        print(df.loc[i,'value'])"
   ]
  },
  {
   "cell_type": "markdown",
   "id": "88d49cb5",
   "metadata": {},
   "source": [
    "---"
   ]
  },
  {
   "cell_type": "markdown",
   "id": "8f5ff0a7",
   "metadata": {},
   "source": [
    "## Close The Database Connection"
   ]
  },
  {
   "cell_type": "code",
   "execution_count": 17,
   "id": "e896d0a5",
   "metadata": {},
   "outputs": [],
   "source": [
    "# Close The Database Connection \n",
    "db_cursor.close()\n",
    "db.close()"
   ]
  },
  {
   "cell_type": "markdown",
   "id": "1f328309",
   "metadata": {},
   "source": [
    "---"
   ]
  }
 ],
 "metadata": {
  "kernelspec": {
   "display_name": "Python 3 (ipykernel)",
   "language": "python",
   "name": "python3"
  },
  "language_info": {
   "codemirror_mode": {
    "name": "ipython",
    "version": 3
   },
   "file_extension": ".py",
   "mimetype": "text/x-python",
   "name": "python",
   "nbconvert_exporter": "python",
   "pygments_lexer": "ipython3",
   "version": "3.11.3"
  }
 },
 "nbformat": 4,
 "nbformat_minor": 5
}
